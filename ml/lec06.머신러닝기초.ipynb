{
 "cells": [
  {
   "cell_type": "markdown",
   "id": "5e073cd8-a5a6-41d8-add0-27d93e60157e",
   "metadata": {},
   "source": [
    "<font size=6><b>lec03. 머신러닝 기초"
   ]
  },
  {
   "cell_type": "code",
   "execution_count": 1,
   "id": "a92e7c1f-1f39-4f73-b9ea-cc8e0531f231",
   "metadata": {},
   "outputs": [],
   "source": [
    "import numpy as np\n",
    "import pandas as pd\n",
    "import matplotlib.pyplot as plt\n",
    "import seaborn as sns\n",
    "\n",
    "# ------------------------------------\n",
    "from sklearn.model_selection import train_test_split\n",
    "from sklearn.preprocessing import StandardScaler, MinMaxScaler, RobustScaler\n",
    "from sklearn.tree import DecisionTreeClassifier\n",
    "from sklearn.datasets import load_iris"
   ]
  },
  {
   "cell_type": "code",
   "execution_count": 2,
   "id": "1a03fb05-fbce-4462-96a5-13b02f613223",
   "metadata": {},
   "outputs": [
    {
     "data": {
      "text/html": [
       "<style>.container{width:100% !important;}</style>"
      ],
      "text/plain": [
       "<IPython.core.display.HTML object>"
      ]
     },
     "metadata": {},
     "output_type": "display_data"
    }
   ],
   "source": [
    "import warnings\n",
    "warnings.filterwarnings(action=\"ignore\")\n",
    "\n",
    "#-------------------- 차트 관련 속성 (한글처리, 그리드) -----------\n",
    "plt.rcParams['font.family']= 'Malgun Gothic'\n",
    "plt.rcParams['axes.unicode_minus'] = False\n",
    "\n",
    "#-------------------- 주피터 , 출력결과 넓이 늘리기 ---------------\n",
    "# from IPython.core.display import display, HTML\n",
    "from IPython.display import display, HTML\n",
    "\n",
    "display(HTML(\"<style>.container{width:100% !important;}</style>\"))\n",
    "pd.set_option('display.max_rows', 100)\n",
    "pd.set_option('display.max_columns', 100)\n",
    "pd.set_option('max_colwidth', None)"
   ]
  },
  {
   "cell_type": "markdown",
   "id": "b6fa29dd-69f3-415f-a66c-bc605ba65ea0",
   "metadata": {},
   "source": [
    "# Data Load\n",
    "* df.info()\n",
    "* df.shape\n",
    "* df.head()"
   ]
  },
  {
   "cell_type": "code",
   "execution_count": 3,
   "id": "57821e69-95d5-4337-832a-c633bf3c4c9e",
   "metadata": {},
   "outputs": [
    {
     "data": {
      "text/plain": [
       "dict_keys(['data', 'target', 'frame', 'target_names', 'DESCR', 'feature_names', 'filename', 'data_module'])"
      ]
     },
     "execution_count": 3,
     "metadata": {},
     "output_type": "execute_result"
    }
   ],
   "source": [
    "data = load_iris()\n",
    "data.keys()"
   ]
  },
  {
   "cell_type": "code",
   "execution_count": 4,
   "id": "11d8708d-5010-4a6e-bf91-bf6d78726ec6",
   "metadata": {},
   "outputs": [
    {
     "data": {
      "text/html": [
       "<div>\n",
       "<style scoped>\n",
       "    .dataframe tbody tr th:only-of-type {\n",
       "        vertical-align: middle;\n",
       "    }\n",
       "\n",
       "    .dataframe tbody tr th {\n",
       "        vertical-align: top;\n",
       "    }\n",
       "\n",
       "    .dataframe thead th {\n",
       "        text-align: right;\n",
       "    }\n",
       "</style>\n",
       "<table border=\"1\" class=\"dataframe\">\n",
       "  <thead>\n",
       "    <tr style=\"text-align: right;\">\n",
       "      <th></th>\n",
       "      <th>sl</th>\n",
       "      <th>sw</th>\n",
       "      <th>pl</th>\n",
       "      <th>pw</th>\n",
       "      <th>target</th>\n",
       "    </tr>\n",
       "  </thead>\n",
       "  <tbody>\n",
       "    <tr>\n",
       "      <th>0</th>\n",
       "      <td>5.1</td>\n",
       "      <td>3.5</td>\n",
       "      <td>1.4</td>\n",
       "      <td>0.2</td>\n",
       "      <td>0</td>\n",
       "    </tr>\n",
       "    <tr>\n",
       "      <th>1</th>\n",
       "      <td>4.9</td>\n",
       "      <td>3.0</td>\n",
       "      <td>1.4</td>\n",
       "      <td>0.2</td>\n",
       "      <td>0</td>\n",
       "    </tr>\n",
       "    <tr>\n",
       "      <th>2</th>\n",
       "      <td>4.7</td>\n",
       "      <td>3.2</td>\n",
       "      <td>1.3</td>\n",
       "      <td>0.2</td>\n",
       "      <td>0</td>\n",
       "    </tr>\n",
       "    <tr>\n",
       "      <th>3</th>\n",
       "      <td>4.6</td>\n",
       "      <td>3.1</td>\n",
       "      <td>1.5</td>\n",
       "      <td>0.2</td>\n",
       "      <td>0</td>\n",
       "    </tr>\n",
       "    <tr>\n",
       "      <th>4</th>\n",
       "      <td>5.0</td>\n",
       "      <td>3.6</td>\n",
       "      <td>1.4</td>\n",
       "      <td>0.2</td>\n",
       "      <td>0</td>\n",
       "    </tr>\n",
       "  </tbody>\n",
       "</table>\n",
       "</div>"
      ],
      "text/plain": [
       "    sl   sw   pl   pw  target\n",
       "0  5.1  3.5  1.4  0.2       0\n",
       "1  4.9  3.0  1.4  0.2       0\n",
       "2  4.7  3.2  1.3  0.2       0\n",
       "3  4.6  3.1  1.5  0.2       0\n",
       "4  5.0  3.6  1.4  0.2       0"
      ]
     },
     "execution_count": 4,
     "metadata": {},
     "output_type": "execute_result"
    }
   ],
   "source": [
    "df = pd.DataFrame(data = data[\"data\"], columns = data[\"feature_names\"]) #index=[]\n",
    "df.columns = [\"sl\",\"sw\",\"pl\",\"pw\"]\n",
    "df['target'] = data['target']\n",
    "df.head()"
   ]
  },
  {
   "cell_type": "code",
   "execution_count": 5,
   "id": "50f38d9c-1d05-413d-a319-a99744b2f6c3",
   "metadata": {},
   "outputs": [
    {
     "name": "stdout",
     "output_type": "stream",
     "text": [
      "<class 'pandas.core.frame.DataFrame'>\n",
      "RangeIndex: 150 entries, 0 to 149\n",
      "Data columns (total 5 columns):\n",
      " #   Column  Non-Null Count  Dtype  \n",
      "---  ------  --------------  -----  \n",
      " 0   sl      150 non-null    float64\n",
      " 1   sw      150 non-null    float64\n",
      " 2   pl      150 non-null    float64\n",
      " 3   pw      150 non-null    float64\n",
      " 4   target  150 non-null    int32  \n",
      "dtypes: float64(4), int32(1)\n",
      "memory usage: 5.4 KB\n"
     ]
    }
   ],
   "source": [
    "df.info()"
   ]
  },
  {
   "cell_type": "code",
   "execution_count": 6,
   "id": "1168ce22-847d-4b4b-995a-0a24bcfc5b66",
   "metadata": {},
   "outputs": [
    {
     "data": {
      "text/plain": [
       "(150, 5)"
      ]
     },
     "execution_count": 6,
     "metadata": {},
     "output_type": "execute_result"
    }
   ],
   "source": [
    "df.shape"
   ]
  },
  {
   "cell_type": "markdown",
   "id": "0a3b3e5c-a74f-4d92-bd36-39c982ed4941",
   "metadata": {},
   "source": [
    "# EDA"
   ]
  },
  {
   "cell_type": "code",
   "execution_count": 7,
   "id": "6e052617-2fce-488a-a699-9a44e494c98c",
   "metadata": {},
   "outputs": [
    {
     "data": {
      "image/png": "[encoded data removed]",
      "text/plain": [
       "<Figure size 640x480 with 6 Axes>"
      ]
     },
     "metadata": {},
     "output_type": "display_data"
    }
   ],
   "source": [
    "df.hist()\n",
    "plt.tight_layout()\n",
    "plt.show()"
   ]
  },
  {
   "cell_type": "code",
   "execution_count": 8,
   "id": "792a3d07-f1b4-4c20-9929-e497ffd4cd6a",
   "metadata": {},
   "outputs": [
    {
     "data": {
      "text/plain": [
       "array([0, 0, 0, 0, 0, 0, 0, 0, 0, 0, 0, 0, 0, 0, 0, 0, 0, 0, 0, 0, 0, 0,\n",
       "       0, 0, 0, 0, 0, 0, 0, 0, 0, 0, 0, 0, 0, 0, 0, 0, 0, 0, 0, 0, 0, 0,\n",
       "       0, 0, 0, 0, 0, 0, 1, 1, 1, 1, 1, 1, 1, 1, 1, 1, 1, 1, 1, 1, 1, 1,\n",
       "       1, 1, 1, 1, 1, 1, 1, 1, 1, 1, 1, 1, 1, 1, 1, 1, 1, 1, 1, 1, 1, 1,\n",
       "       1, 1, 1, 1, 1, 1, 1, 1, 1, 1, 1, 1, 2, 2, 2, 2, 2, 2, 2, 2, 2, 2,\n",
       "       2, 2, 2, 2, 2, 2, 2, 2, 2, 2, 2, 2, 2, 2, 2, 2, 2, 2, 2, 2, 2, 2,\n",
       "       2, 2, 2, 2, 2, 2, 2, 2, 2, 2, 2, 2, 2, 2, 2, 2, 2, 2])"
      ]
     },
     "execution_count": 8,
     "metadata": {},
     "output_type": "execute_result"
    }
   ],
   "source": [
    "data['target']"
   ]
  },
  {
   "cell_type": "markdown",
   "id": "aea2df3d-6836-4022-afe0-445993c58b3e",
   "metadata": {},
   "source": [
    "# 학습 & 예측 & 평가"
   ]
  },
  {
   "cell_type": "code",
   "execution_count": 9,
   "id": "d5678e50-1a4c-43fa-a720-d6f545060db8",
   "metadata": {},
   "outputs": [
    {
     "data": {
      "text/html": [
       "<div>\n",
       "<style scoped>\n",
       "    .dataframe tbody tr th:only-of-type {\n",
       "        vertical-align: middle;\n",
       "    }\n",
       "\n",
       "    .dataframe tbody tr th {\n",
       "        vertical-align: top;\n",
       "    }\n",
       "\n",
       "    .dataframe thead th {\n",
       "        text-align: right;\n",
       "    }\n",
       "</style>\n",
       "<table border=\"1\" class=\"dataframe\">\n",
       "  <thead>\n",
       "    <tr style=\"text-align: right;\">\n",
       "      <th></th>\n",
       "      <th>sl</th>\n",
       "      <th>sw</th>\n",
       "      <th>pl</th>\n",
       "      <th>pw</th>\n",
       "      <th>target</th>\n",
       "    </tr>\n",
       "  </thead>\n",
       "  <tbody>\n",
       "    <tr>\n",
       "      <th>0</th>\n",
       "      <td>5.1</td>\n",
       "      <td>3.5</td>\n",
       "      <td>1.4</td>\n",
       "      <td>0.2</td>\n",
       "      <td>0</td>\n",
       "    </tr>\n",
       "    <tr>\n",
       "      <th>1</th>\n",
       "      <td>4.9</td>\n",
       "      <td>3.0</td>\n",
       "      <td>1.4</td>\n",
       "      <td>0.2</td>\n",
       "      <td>0</td>\n",
       "    </tr>\n",
       "    <tr>\n",
       "      <th>2</th>\n",
       "      <td>4.7</td>\n",
       "      <td>3.2</td>\n",
       "      <td>1.3</td>\n",
       "      <td>0.2</td>\n",
       "      <td>0</td>\n",
       "    </tr>\n",
       "  </tbody>\n",
       "</table>\n",
       "</div>"
      ],
      "text/plain": [
       "    sl   sw   pl   pw  target\n",
       "0  5.1  3.5  1.4  0.2       0\n",
       "1  4.9  3.0  1.4  0.2       0\n",
       "2  4.7  3.2  1.3  0.2       0"
      ]
     },
     "execution_count": 9,
     "metadata": {},
     "output_type": "execute_result"
    }
   ],
   "source": [
    "df.head(3)"
   ]
  },
  {
   "cell_type": "markdown",
   "id": "6c63785d-7360-4b6e-a2f6-920af80700f1",
   "metadata": {},
   "source": [
    "## train, test 분리\n",
    "* train_test_split( 문제지, 답안지, test_size=0.2, train_size=0.8)"
   ]
  },
  {
   "cell_type": "code",
   "execution_count": 10,
   "id": "94b4b111-2bb4-4438-a54a-2a49e8a3ff9e",
   "metadata": {},
   "outputs": [
    {
     "data": {
      "text/plain": [
       "((120, 4), (30, 4), (120,), (30,))"
      ]
     },
     "execution_count": 10,
     "metadata": {},
     "output_type": "execute_result"
    }
   ],
   "source": [
    "y답안지 = df['target']                  # y = 답안지\n",
    "X문제지 = df.drop(['target'], axis=1)   # X = 문제지\n",
    "\n",
    "\n",
    "#\n",
    "X_train문제지8, X_test문제지2,     y_train답안지8, y_test답안지2 = train_test_split( X문제지, y답안지, test_size=0.2, random_state= 8000)\n",
    "X_train문제지8.shape, X_test문제지2.shape, y_train답안지8.shape, y_test답안지2.shape"
   ]
  },
  {
   "cell_type": "markdown",
   "id": "67d5a942-2349-4c98-8b7a-91d46ac36ecb",
   "metadata": {},
   "source": [
    "## 학습"
   ]
  },
  {
   "cell_type": "markdown",
   "id": "ea4b4a45-b056-4750-af69-1a34d2d6f269",
   "metadata": {},
   "source": [
    "```python\n",
    "class sklearn.tree.DecisionTreeClassifier (*, \n",
    "random_state=None,\n",
    "# ---------------------  hyper-parameter\n",
    "criterion='gini', \n",
    "max_depth=None, min_samples_split=2, min_samples_leaf=1, \n",
    "max_leaf_nodes=None,\n",
    "# ---------------------\n",
    "splitter='best', \n",
    "min_weight_fraction_leaf=0.0, max_features=None, min_impurity_decrease=0.0, class_weight=None, ccp_alpha=0.0)\n",
    "```"
   ]
  },
  {
   "cell_type": "code",
   "execution_count": 11,
   "id": "8bd7adb3-d36d-4555-958a-88741b6002ef",
   "metadata": {},
   "outputs": [
    {
     "data": {
      "text/html": [
       "<style>#sk-container-id-1 {color: black;}#sk-container-id-1 pre{padding: 0;}#sk-container-id-1 div.sk-toggleable {background-color: white;}#sk-container-id-1 label.sk-toggleable__label {cursor: pointer;display: block;width: 100%;margin-bottom: 0;padding: 0.3em;box-sizing: border-box;text-align: center;}#sk-container-id-1 label.sk-toggleable__label-arrow:before {content: \"▸\";float: left;margin-right: 0.25em;color: #696969;}#sk-container-id-1 label.sk-toggleable__label-arrow:hover:before {color: black;}#sk-container-id-1 div.sk-estimator:hover label.sk-toggleable__label-arrow:before {color: black;}#sk-container-id-1 div.sk-toggleable__content {max-height: 0;max-width: 0;overflow: hidden;text-align: left;background-color: #f0f8ff;}#sk-container-id-1 div.sk-toggleable__content pre {margin: 0.2em;color: black;border-radius: 0.25em;background-color: #f0f8ff;}#sk-container-id-1 input.sk-toggleable__control:checked~div.sk-toggleable__content {max-height: 200px;max-width: 100%;overflow: auto;}#sk-container-id-1 input.sk-toggleable__control:checked~label.sk-toggleable__label-arrow:before {content: \"▾\";}#sk-container-id-1 div.sk-estimator input.sk-toggleable__control:checked~label.sk-toggleable__label {background-color: #d4ebff;}#sk-container-id-1 div.sk-label input.sk-toggleable__control:checked~label.sk-toggleable__label {background-color: #d4ebff;}#sk-container-id-1 input.sk-hidden--visually {border: 0;clip: rect(1px 1px 1px 1px);clip: rect(1px, 1px, 1px, 1px);height: 1px;margin: -1px;overflow: hidden;padding: 0;position: absolute;width: 1px;}#sk-container-id-1 div.sk-estimator {font-family: monospace;background-color: #f0f8ff;border: 1px dotted black;border-radius: 0.25em;box-sizing: border-box;margin-bottom: 0.5em;}#sk-container-id-1 div.sk-estimator:hover {background-color: #d4ebff;}#sk-container-id-1 div.sk-parallel-item::after {content: \"\";width: 100%;border-bottom: 1px solid gray;flex-grow: 1;}#sk-container-id-1 div.sk-label:hover label.sk-toggleable__label {background-color: #d4ebff;}#sk-container-id-1 div.sk-serial::before {content: \"\";position: absolute;border-left: 1px solid gray;box-sizing: border-box;top: 0;bottom: 0;left: 50%;z-index: 0;}#sk-container-id-1 div.sk-serial {display: flex;flex-direction: column;align-items: center;background-color: white;padding-right: 0.2em;padding-left: 0.2em;position: relative;}#sk-container-id-1 div.sk-item {position: relative;z-index: 1;}#sk-container-id-1 div.sk-parallel {display: flex;align-items: stretch;justify-content: center;background-color: white;position: relative;}#sk-container-id-1 div.sk-item::before, #sk-container-id-1 div.sk-parallel-item::before {content: \"\";position: absolute;border-left: 1px solid gray;box-sizing: border-box;top: 0;bottom: 0;left: 50%;z-index: -1;}#sk-container-id-1 div.sk-parallel-item {display: flex;flex-direction: column;z-index: 1;position: relative;background-color: white;}#sk-container-id-1 div.sk-parallel-item:first-child::after {align-self: flex-end;width: 50%;}#sk-container-id-1 div.sk-parallel-item:last-child::after {align-self: flex-start;width: 50%;}#sk-container-id-1 div.sk-parallel-item:only-child::after {width: 0;}#sk-container-id-1 div.sk-dashed-wrapped {border: 1px dashed gray;margin: 0 0.4em 0.5em 0.4em;box-sizing: border-box;padding-bottom: 0.4em;background-color: white;}#sk-container-id-1 div.sk-label label {font-family: monospace;font-weight: bold;display: inline-block;line-height: 1.2em;}#sk-container-id-1 div.sk-label-container {text-align: center;}#sk-container-id-1 div.sk-container {/* jupyter's `normalize.less` sets `[hidden] { display: none; }` but bootstrap.min.css set `[hidden] { display: none !important; }` so we also need the `!important` here to be able to override the default hidden behavior on the sphinx rendered scikit-learn.org. See: https://github.com/scikit-learn/scikit-learn/issues/21755 */display: inline-block !important;position: relative;}#sk-container-id-1 div.sk-text-repr-fallback {display: none;}</style><div id=\"sk-container-id-1\" class=\"sk-top-container\"><div class=\"sk-text-repr-fallback\"><pre>DecisionTreeClassifier(random_state=24)</pre><b>In a Jupyter environment, please rerun this cell to show the HTML representation or trust the notebook. <br />On GitHub, the HTML representation is unable to render, please try loading this page with nbviewer.org.</b></div><div class=\"sk-container\" hidden><div class=\"sk-item\"><div class=\"sk-estimator sk-toggleable\"><input class=\"sk-toggleable__control sk-hidden--visually\" id=\"sk-estimator-id-1\" type=\"checkbox\" checked><label for=\"sk-estimator-id-1\" class=\"sk-toggleable__label sk-toggleable__label-arrow\">DecisionTreeClassifier</label><div class=\"sk-toggleable__content\"><pre>DecisionTreeClassifier(random_state=24)</pre></div></div></div></div></div>"
      ],
      "text/plain": [
       "DecisionTreeClassifier(random_state=24)"
      ]
     },
     "execution_count": 11,
     "metadata": {},
     "output_type": "execute_result"
    }
   ],
   "source": [
    "model = DecisionTreeClassifier(random_state=24, min_samples_split=2)\n",
    "model.fit(X_train문제지8, y_train답안지8)      # 학습 : 문제지 답안지"
   ]
  },
  {
   "cell_type": "markdown",
   "id": "4987f68a-e6be-4537-ae4a-a5e5923f6e04",
   "metadata": {},
   "source": [
    "## 평가\n",
    "* ref : https://scikit-learn.org/stable/modules/model_evaluation.html"
   ]
  },
  {
   "attachments": {
    "4d9e5a30-4182-4954-b0e6-a64b16bef882.png": {
     "image/png": "[encoded data removed]"
    }
   },
   "cell_type": "markdown",
   "id": "1906b0e5-547b-4d06-b4dc-ebb8df9cb9e3",
   "metadata": {},
   "source": [
    "![image.png](attachment:4d9e5a30-4182-4954-b0e6-a64b16bef882.png)"
   ]
  },
  {
   "cell_type": "markdown",
   "id": "315187e7-51a9-4251-a79d-dd19e72fe4d0",
   "metadata": {},
   "source": [
    "<pre>\n",
    "<font size = 4 color =red> <b>\n",
    "* accuracy (정확도)\n",
    "\n",
    "* precision_score (정밀도)    -- macro micro\n",
    "* recall_score    (재현률)    -- macro micro\n",
    "* f1_score                    -- macro micro\n",
    "\n",
    "* roc_auc_score         -- ovo   ovr\n",
    "</pre>"
   ]
  },
  {
   "cell_type": "code",
   "execution_count": 12,
   "id": "bbece8d2-0129-4856-a68c-4b74fb5eb5c8",
   "metadata": {},
   "outputs": [],
   "source": [
    "from sklearn.metrics import accuracy_score, precision_score, recall_score, f1_score, roc_auc_score\n",
    "from sklearn.metrics import confusion_matrix, classification_report"
   ]
  },
  {
   "cell_type": "code",
   "execution_count": 13,
   "id": "751e67bb-7849-4fd1-851b-0765e34b96c0",
   "metadata": {},
   "outputs": [
    {
     "data": {
      "text/plain": [
       "0.9666666666666667"
      ]
     },
     "execution_count": 13,
     "metadata": {},
     "output_type": "execute_result"
    }
   ],
   "source": [
    "예측답안지 = model.predict(X_test문제지2) \n",
    "accuracy_score(y_test답안지2, 예측답안지)"
   ]
  },
  {
   "cell_type": "code",
   "execution_count": 14,
   "id": "d19f646a-d794-4a6c-891b-9ad8977cbd89",
   "metadata": {},
   "outputs": [
    {
     "data": {
      "text/html": [
       "<div>\n",
       "<style scoped>\n",
       "    .dataframe tbody tr th:only-of-type {\n",
       "        vertical-align: middle;\n",
       "    }\n",
       "\n",
       "    .dataframe tbody tr th {\n",
       "        vertical-align: top;\n",
       "    }\n",
       "\n",
       "    .dataframe thead th {\n",
       "        text-align: right;\n",
       "    }\n",
       "</style>\n",
       "<table border=\"1\" class=\"dataframe\">\n",
       "  <thead>\n",
       "    <tr style=\"text-align: right;\">\n",
       "      <th></th>\n",
       "      <th>y</th>\n",
       "      <th>pred</th>\n",
       "    </tr>\n",
       "  </thead>\n",
       "  <tbody>\n",
       "    <tr>\n",
       "      <th>70</th>\n",
       "      <td>1</td>\n",
       "      <td>2</td>\n",
       "    </tr>\n",
       "  </tbody>\n",
       "</table>\n",
       "</div>"
      ],
      "text/plain": [
       "    y  pred\n",
       "70  1     2"
      ]
     },
     "execution_count": 14,
     "metadata": {},
     "output_type": "execute_result"
    }
   ],
   "source": [
    "check_df = pd.DataFrame(columns=[\"y\",\"pred\"])\n",
    "check_df[\"y\"] = y_test답안지2\n",
    "check_df[\"pred\"] = 예측답안지\n",
    "\n",
    "check_df[check_df[\"y\"] != check_df[\"pred\"]]"
   ]
  },
  {
   "cell_type": "markdown",
   "id": "247ef888-444e-47da-8faa-3bb74ea400fe",
   "metadata": {},
   "source": [
    "<pre>\n",
    "정밀도(Precision) : 암이(P)라고 예측 --> 실제 암\r\n",
    "                    TP / (TP+FP) : FP\r\n",
    "                    FP: 예측 암 --> 실제 정                    \n",
    "\t\t스팸메일분류기, \r\n",
    "재현률(Recall)     : 실제 암    --> 암이(P)라고 예측\r\n",
    "                    TP / (TP+FN) : FN\r\n",
    "                    FN: 실제 암 -->                      정상\r\n",
    "\t\t암환자예측, 화재감지, 범죄탐지\r\n",
    "\r\n",
    "가설 & 검정\r\n",
    "귀무가설 : 일반적사실 \r\n",
    "대립가설 : 검    하고자 하는 사실\r\n",
    "\t1종오류 : 귀무가설이 참인데 아니라고 주장 (실제로 참인        귀무가설을 기각)\r\n",
    "\t\tFalse Positive(FP) : 알파에        = Type1 에러\r\n",
    "\t\t실제 음성(N)인데 -->     양    (P)으로 예측 실수\r\n",
    "\r\n",
    "\t2종오류 : 귀무가설이 거짓인데 맞다고 주장 (실제로        짓인데 귀무가설을 채택)\r\n",
    "\t\tFalse Negative(FN) :        타에러 = Type2 에러\r\n",
    "\t\t실제 양성(P)인데 --> 음성(N)으로 예측 실수\n",
    "</pre>"
   ]
  },
  {
   "cell_type": "markdown",
   "id": "81219ee1-9d28-460c-9a2f-7b17629f0f99",
   "metadata": {},
   "source": [
    "## Confusion_matrix(오차행렬)"
   ]
  },
  {
   "cell_type": "markdown",
   "id": "cee28a5e-64ad-4295-b410-6f5b90b1d9c6",
   "metadata": {},
   "source": [
    "<img src=\"https://velog.velcdn.com/images%2Fhajeongjj%2Fpost%2F31affec5-a47b-4ff0-b07d-73943729dbc3%2Fimage.png\" width=800>"
   ]
  },
  {
   "cell_type": "markdown",
   "id": "c06c9045-48d2-4ba2-83a3-9dffb91e2911",
   "metadata": {},
   "source": [
    "<img src=\"https://docs.microsoft.com/en-us/dynamics365/finance/finance-insights/media/payment-prediction-matrix-2.png\" width=600>"
   ]
  },
  {
   "cell_type": "markdown",
   "id": "83b54afc-359c-44c5-b11b-60552edd24a2",
   "metadata": {},
   "source": [
    "<table style=\"border-collapse: collapse; width: 805px; box-sizing: border-box; border-spacing: 0px; max-width: 100%;\" border=\"0\" width=\"805\" cellspacing=\"0\" cellpadding=\"0\" data-ke-align=\"alignLeft\"><colgroup><col style=\"width: 221pt;\" width=\"294\"> <col style=\"mso-width-source: userset; mso-width-alt: 6619; width: 136pt;\" width=\"181\"> <col style=\"width: 221pt;\" width=\"294\"> </colgroup>\n",
    "<tbody>\n",
    "<tr style=\"height: 15.0pt; box-sizing: border-box;\">\n",
    "<td class=\"xl63\" style=\"height: 20px; width: 154px; border: 1px solid #8c8c8c;\" width=\"294\" height=\"20\"><span>용어</span></td>\n",
    "<td class=\"xl63\" style=\"border-left: none; width: 88px; border-bottom: 1px solid #8c8c8c; border-right: 1px solid #8c8c8c; border-top: 1px solid #8c8c8c; height: 20px;\" width=\"181\"><span>산출식</span></td>\n",
    "<td class=\"xl63\" style=\"border-left: none; width: 296px; border-bottom: 1px solid #8c8c8c; border-top: 1px solid #8c8c8c; border-right: 1px solid #8c8c8c; height: 20px;\" width=\"294\"><span>설명</span></td>\n",
    "<td class=\"xl63\" style=\"border-left: none; width: 239px; border-bottom: 1px solid #8c8c8c; border-top: 1px solid #8c8c8c; border-right: 1px solid #8c8c8c; height: 20px;\" colspan=\"1\" width=\"294\"><span>&nbsp;예</span></td>\n",
    "</tr>\n",
    "    \n",
    "<tr style=\"height: 15.0pt; box-sizing: border-box;\">\n",
    "<td class=\"xl64\" style=\"height: 35px; border-top: none; width: 154px; box-sizing: border-box; border-bottom: 1px solid #8c8c8c; border-right: 1px solid #8c8c8c; border-left: 1px solid #8c8c8c;\" width=\"294\" height=\"20\">Accuracy </td>\n",
    "<td class=\"xl64\" style=\"border-top: none; border-left: none; width: 88px; box-sizing: border-box; border-bottom: 1px solid #8c8c8c; border-right: 1px solid #8c8c8c; height: 35px;\" width=\"181\"><b>(TP+TN)/(TP+TN+FP+FN)</b></td>\n",
    "<td class=\"xl65\" style=\"border-top: none; border-left: none; width: 296px; box-sizing: border-box; border-bottom: 1px solid #8c8c8c; border-right: 1px solid #8c8c8c; height: 35px;\" width=\"294\">탐지율 : 맞게 예측한 비율</td>\n",
    "<td class=\"xl65\" style=\"border-top: none; border-left: none; width: 239px; box-sizing: border-box; border-bottom: 1px solid #8c8c8c; border-right: 1px solid #8c8c8c; height: 35px;\" colspan=\"1\" width=\"294\"><span>실제 악성/정상인지 맞게 예측한 비율</span></td>\n",
    "</tr>\n",
    "    \n",
    "<tr style=\"height: 15.0pt; box-sizing: border-box;\">\n",
    "<td class=\"xl64\" style=\"height: 20px; border-top: none; width: 154px; box-sizing: border-box; border-bottom: 1px solid #8c8c8c; border-right: 1px solid #8c8c8c; border-left: 1px solid #8c8c8c;\" width=\"294\" height=\"20\">Precision <font size=5 color=red><b> ↓↓ </b></font></td>\n",
    "<td class=\"xl64\" style=\"border-top: none; border-left: none; width: 88px; box-sizing: border-box; border-bottom: 1px solid #8c8c8c; border-right: 1px solid #8c8c8c; height: 20px;\" width=\"181\"><b>TP/(TP+FP)</b></td>\n",
    "<td class=\"xl65\" style=\"border-top: none; border-left: none; width: 296px; box-sizing: border-box; border-bottom: 1px solid #8c8c8c; border-right: 1px solid #8c8c8c; height: 20px;\" width=\"294\"><span>정확도&nbsp;: P로 예측한 것중 실제P의 비율</span></td>\n",
    "<td class=\"xl65\" style=\"border-top: none; border-left: none; width: 239px; box-sizing: border-box; border-bottom: 1px solid #8c8c8c; border-right: 1px solid #8c8c8c; height: 20px;\" colspan=\"1\" width=\"294\"><span>악성으로 예측한것 중 실제 악성인 샘플의 비율</span></td>\n",
    "</tr>\n",
    "    \n",
    "<tr style=\"height: 15.0pt; box-sizing: border-box;\">\n",
    "<td class=\"xl64\" style=\"height: 20px; border-top: none; width: 154px; box-sizing: border-box; border-bottom: 1px solid #8c8c8c; border-right: 1px solid #8c8c8c; border-left: 1px solid #8c8c8c;\" width=\"294\" height=\"20\">Recall <font size=5 color=red><b> →→ </b></font></td>\n",
    "<td class=\"xl64\" style=\"border-top: none; border-left: none; width: 88px; box-sizing: border-box; border-bottom: 1px solid #8c8c8c; border-right: 1px solid #8c8c8c; height: 20px;\" width=\"181\"><b>TP/(TP+FN)</b></td>\n",
    "<td class=\"xl65\" style=\"border-top: none; border-left: none; width: 296px; box-sizing: border-box; border-bottom: 1px solid #8c8c8c; border-right: 1px solid #8c8c8c; height: 20px;\" width=\"294\"><span>재현율 : 실제 P를 P로 예측한 비율</span></td>\n",
    "<td class=\"xl65\" style=\"border-top: none; border-left: none; width: 239px; box-sizing: border-box; border-bottom: 1px solid #8c8c8c; border-right: 1px solid #8c8c8c; height: 20px;\" colspan=\"1\" width=\"294\"><span>실제 악성 샘플 중 악성으로 예측한 비율</span></td>\n",
    "</tr>\n",
    "\n",
    "    \n",
    "<tr style=\"height: 15.0pt; box-sizing: border-box;\">\n",
    "<td class=\"xl64\" style=\"height: 15pt; border-top: none; width: 154px; box-sizing: border-box; border-bottom: 1px solid #8c8c8c; border-right: 1px solid #8c8c8c; border-left: 1px solid #8c8c8c;\" width=\"294\" height=\"20\">TPR<span>&nbsp;(True Positive Rate)&nbsp;</span><span>= Recall</span>  <font size=5 color=red><b> →→ </b></font> </td>\n",
    "<td class=\"xl64\" style=\"border-top: none; border-left: none; width: 88px; box-sizing: border-box; border-bottom: 1px solid #8c8c8c; border-right: 1px solid #8c8c8c;\" width=\"181\"><b>TP/(TP+FN)</b></td>\n",
    "<td class=\"xl65\" style=\"border-top: none; border-left: none; width: 296px; border-bottom: 1px solid #8c8c8c; border-right: 1px solid #8c8c8c;\" width=\"294\"><span>민감도(Sensitivity) : 예측과 실제 모두 P&nbsp;</span></td>\n",
    "<td class=\"xl65\" style=\"border-top: none; border-left: none; width: 239px; border-bottom: 1px solid #8c8c8c; border-right: 1px solid #8c8c8c;\" colspan=\"1\" width=\"294\"><span>실제 악성 샘플을 악성으로 예측한 비율</span></td>\n",
    "</tr>\n",
    "\n",
    "<tr style=\"height: 15.0pt; box-sizing: border-box;\">\n",
    "<td class=\"xl64\" style=\"height: 35px; border-top: none; width: 154px; box-sizing: border-box; border-bottom: 1px solid #8c8c8c; border-right: 1px solid #8c8c8c; border-left: 1px solid #8c8c8c;\" width=\"294\" height=\"20\">Fall-out<font size=5 color=red><b> → </b></font></td>\n",
    "<td class=\"xl64\" style=\"border-top: none; border-left: none; width: 88px; box-sizing: border-box; border-bottom: 1px solid #8c8c8c; border-right: 1px solid #8c8c8c; height: 35px;\" width=\"181\"><b>FP/(FP+TN)</b></td>\n",
    "<td class=\"xl65\" style=\"border-top: none; border-left: none; width: 296px; box-sizing: border-box; border-bottom: 1px solid #8c8c8c; border-right: 1px solid #8c8c8c; height: 35px;\" width=\"294\">오예측율 : 실제 N을 P로 예측한 비율</td>\n",
    "<td class=\"xl65\" style=\"border-top: none; border-left: none; width: 239px; box-sizing: border-box; border-bottom: 1px solid #8c8c8c; border-right: 1px solid #8c8c8c; height: 35px;\" colspan=\"1\" width=\"294\"><span>실제 정상 샘플을 악성으로 예측한 비율</span></td>\n",
    "</tr>    \n",
    "    \n",
    "<tr style=\"height: 15.0pt; box-sizing: border-box;\">\n",
    "<td class=\"xl64\" style=\"height: 15pt; border-top: none; width: 154px; box-sizing: border-box; border-bottom: 1px solid #8c8c8c; border-right: 1px solid #8c8c8c; border-left: 1px solid #8c8c8c;\" width=\"294\" height=\"20\">FPR<span>&nbsp;(False Positive Rate)&nbsp;</span><span>= Fall-out</span> <font size=5 color=red><b> → </b></font></td>\n",
    "<td class=\"xl64\" style=\"border-top: none; border-left: none; width: 88px; box-sizing: border-box; border-bottom: 1px solid #8c8c8c; border-right: 1px solid #8c8c8c;\" width=\"181\"><b>FP/(FP+TN)</b></td>\n",
    "<td class=\"xl65\" style=\"border-top: none; border-left: none; width: 296px; border-bottom: 1px solid #8c8c8c; border-right: 1px solid #8c8c8c;\" width=\"294\"><span>실제 N인데 P로 예측</span></td>\n",
    "<td class=\"xl65\" style=\"border-top: none; border-left: none; width: 239px; border-bottom: 1px solid #8c8c8c; border-right: 1px solid #8c8c8c;\" colspan=\"1\" width=\"294\"><span>실제 정상 샘플을 악성으로 예측한 비율</span></td>\n",
    "</tr>\n",
    " \n",
    "<tr style=\"height: 15.0pt; box-sizing: border-box;\">\n",
    "<td class=\"xl64\" style=\"height: 35px; border-top: none; width: 154px; box-sizing: border-box; border-bottom: 1px solid #8c8c8c; border-right: 1px solid #8c8c8c; border-left: 1px solid #8c8c8c;\" width=\"294\" height=\"20\"><span>TNR</span><br><span>&nbsp;(True Negative Rate)</span> <font size=5 color=red><b> ← </b></font></td>\n",
    "<td class=\"xl64\" style=\"border-top: none; border-left: none; width: 88px; box-sizing: border-box; border-bottom: 1px solid #8c8c8c; border-right: 1px solid #8c8c8c; height: 35px;\" width=\"181\"><b>TN/(TN+FP)</b></td>\n",
    "<td class=\"xl65\" style=\"border-top: none; border-left: none; width: 296px; border-bottom: 1px solid #8c8c8c; border-right: 1px solid #8c8c8c; height: 35px;\" width=\"294\"><span>특이도 : 예측과 실제 모두 N</span></td>\n",
    "<td class=\"xl65\" style=\"border-top: none; border-left: none; width: 239px; border-bottom: 1px solid #8c8c8c; border-right: 1px solid #8c8c8c; height: 35px;\" colspan=\"1\" width=\"294\"><span>실제 정상 샘플을 정상으로 예측한 비율</span></td>\n",
    "</tr>\n",
    "    \n",
    "    \n",
    "<tr style=\"height: 15.0pt; box-sizing: border-box;\">\n",
    "<td class=\"xl64\" style=\"height: 15pt; border-top: none; width: 154px; box-sizing: border-box; border-right: 1px solid #8c8c8c; border-bottom: 1px solid #8c8c8c; border-left: 1px solid #8c8c8c;\" width=\"294\" height=\"20\">FNR<span>&nbsp;(False Negative Rate)</span> <font size=5 color=red><b> ←← </b></font></td>\n",
    "<td class=\"xl64\" style=\"border-top: none; border-left: none; width: 88px; box-sizing: border-box; border-right: 1px solid #8c8c8c; border-bottom: 1px solid #8c8c8c;\" width=\"181\"><b>FN/(TP+FN)</b></td>\n",
    "<td class=\"xl65\" style=\"border-top: none; border-left: none; width: 296px; border-bottom: 1px solid #8c8c8c; border-right: 1px solid #8c8c8c;\" width=\"294\"><span>실제 P인데 N으로 예측</span></td>\n",
    "<td class=\"xl65\" style=\"border-top: none; border-left: none; width: 239px; border-bottom: 1px solid #8c8c8c; border-right: 1px solid #8c8c8c;\" colspan=\"1\" width=\"294\"><span>실제 악성 샘플을 정상으로 예측한 비율</span></td>\n",
    "</tr>\n",
    "    \n",
    "\n",
    "</tbody>\n",
    "</table>"
   ]
  },
  {
   "cell_type": "code",
   "execution_count": 38,
   "id": "18e798e5-5e59-4b57-8f32-af3eec077c43",
   "metadata": {},
   "outputs": [
    {
     "name": "stdout",
     "output_type": "stream",
     "text": [
      "[[13  0  0]\n",
      " [ 0  7  1]\n",
      " [ 0  0  9]]\n"
     ]
    }
   ],
   "source": [
    "# y축(실제답안)\n",
    "# x축(예측답안)\n",
    "print(confusion_matrix(y_test답안지2, 예측답안지)) # 예측을 2로 했는데 실제 1인 것 하나 발견!"
   ]
  },
  {
   "cell_type": "markdown",
   "id": "8d4e0165-2611-4924-b3f8-78de81944f82",
   "metadata": {},
   "source": [
    "## 이진 분류"
   ]
  },
  {
   "cell_type": "code",
   "execution_count": 16,
   "id": "ae695429-2c5f-4da3-8998-77d32bfccfff",
   "metadata": {},
   "outputs": [
    {
     "name": "stdout",
     "output_type": "stream",
     "text": [
      "[[9 1]\n",
      " [2 4]]\n"
     ]
    }
   ],
   "source": [
    "y    = [0, 0, 0, 0, 0, 0, 0, 0, 0, 0, 1, 1, 1, 1, 1, 1]\n",
    "pred = [0, 0, 0, 0, 0, 0, 0, 0, 0, 1, 0, 0, 1, 1, 1, 1]\n",
    "cm = np.array([[9,1], [2,4]])\n",
    "print(  confusion_matrix(y,  pred)  )\n",
    "# array([[9, 1],\n",
    "       # [2, 4]])"
   ]
  },
  {
   "cell_type": "code",
   "execution_count": 17,
   "id": "92421f1e-908f-40ab-b418-2dc98ac9fb29",
   "metadata": {},
   "outputs": [
    {
     "name": "stdout",
     "output_type": "stream",
     "text": [
      "              precision    recall  f1-score   support\n",
      "\n",
      "           0       0.82      0.90      0.86        10\n",
      "           1       0.80      0.67      0.73         6\n",
      "\n",
      "    accuracy                           0.81        16\n",
      "   macro avg       0.81      0.78      0.79        16\n",
      "weighted avg       0.81      0.81      0.81        16\n",
      "\n"
     ]
    }
   ],
   "source": [
    "print( classification_report(y, pred) )"
   ]
  },
  {
   "cell_type": "code",
   "execution_count": 18,
   "id": "da9169dc-aef3-43f2-95e9-56c668c66d48",
   "metadata": {},
   "outputs": [
    {
     "data": {
      "text/plain": [
       "(0.6666666666666666, 0.8, 0.1)"
      ]
     },
     "execution_count": 18,
     "metadata": {},
     "output_type": "execute_result"
    }
   ],
   "source": [
    "recall    = 4 / (2 + 4)\n",
    "precision = 4 / (1+4)\n",
    "fallout   = 1 / (9+1)\n",
    "recall, precision, fallout\n"
   ]
  },
  {
   "cell_type": "code",
   "execution_count": 19,
   "id": "db5b514b-cc1b-4769-b03f-c6cc39883a18",
   "metadata": {},
   "outputs": [
    {
     "name": "stdout",
     "output_type": "stream",
     "text": [
      "precision : 0.8000 recall: 0.6667 f1: 0.7273\n"
     ]
    }
   ],
   "source": [
    "precision = precision_score(y, pred)\n",
    "recall    = recall_score(y, pred)\n",
    "f1        = f1_score(y, pred)\n",
    "print(f\"precision : {precision:.4f} recall: {recall:.4f} f1: {f1:.4f}\")"
   ]
  },
  {
   "cell_type": "markdown",
   "id": "507f2e11-c34f-4e6b-b459-5f468bda95e3",
   "metadata": {},
   "source": [
    "## 멀티 분류(Multi Classification)"
   ]
  },
  {
   "cell_type": "code",
   "execution_count": 20,
   "id": "dba10ed4-9173-42b9-a166-3db42fc38a93",
   "metadata": {},
   "outputs": [
    {
     "name": "stdout",
     "output_type": "stream",
     "text": [
      "[[2 0 0]\n",
      " [1 3 0]\n",
      " [0 1 1]]\n"
     ]
    }
   ],
   "source": [
    "y1 = [0,0,1,1,1,1,2,2]\n",
    "pred1 = [0,0,0,1,1,1,1,2]\n",
    "print(  confusion_matrix(y1,  pred1)  )"
   ]
  },
  {
   "cell_type": "code",
   "execution_count": 21,
   "id": "6c8305e7-08d3-4141-b05e-cff91920f725",
   "metadata": {},
   "outputs": [
    {
     "name": "stdout",
     "output_type": "stream",
     "text": [
      "              precision    recall  f1-score   support\n",
      "\n",
      "           0       0.67      1.00      0.80         2\n",
      "           1       0.75      0.75      0.75         4\n",
      "           2       1.00      0.50      0.67         2\n",
      "\n",
      "    accuracy                           0.75         8\n",
      "   macro avg       0.81      0.75      0.74         8\n",
      "weighted avg       0.79      0.75      0.74         8\n",
      "\n"
     ]
    }
   ],
   "source": [
    "print (classification_report(y1,pred1))"
   ]
  },
  {
   "cell_type": "code",
   "execution_count": 22,
   "id": "192546cf-0cf3-4342-b52c-73263d08b334",
   "metadata": {},
   "outputs": [
    {
     "name": "stdout",
     "output_type": "stream",
     "text": [
      "precision : 0.8056 recall: 0.7500 f1: 0.7389\n"
     ]
    }
   ],
   "source": [
    "precision = precision_score(y1, pred1, average = 'macro')   # average = 'binary'\n",
    "recall    = recall_score(y1, pred1, average = 'macro')      # average = 'binary'\n",
    "f1        = f1_score(y1, pred1, average = 'macro')          # average = 'binary'\n",
    "print(f\"precision : {precision:.4f} recall: {recall:.4f} f1: {f1:.4f}\")"
   ]
  },
  {
   "cell_type": "code",
   "execution_count": 23,
   "id": "f32a7da5-b1bd-4e0e-b385-c62800b208cc",
   "metadata": {},
   "outputs": [
    {
     "name": "stdout",
     "output_type": "stream",
     "text": [
      "precision : 0.7500 recall: 0.7500 f1: 0.7500\n"
     ]
    }
   ],
   "source": [
    "precision = precision_score(y1, pred1, average = 'micro')   # average = 'binary'\n",
    "recall    = recall_score(y1, pred1, average = 'micro')      # average = 'binary'\n",
    "f1        = f1_score(y1, pred1, average = 'micro')          # average = 'binary'\n",
    "print(f\"precision : {precision:.4f} recall: {recall:.4f} f1: {f1:.4f}\")"
   ]
  },
  {
   "cell_type": "markdown",
   "id": "757b9c23-ec4d-4e01-b1c7-807b4e2b5d09",
   "metadata": {},
   "source": [
    "## macro vs. micro"
   ]
  },
  {
   "cell_type": "markdown",
   "id": "92826d9c-90ab-4cdb-b7b3-c535a699329c",
   "metadata": {},
   "source": [
    "<img src = https://euriion.com/wp-content/uploads/2023/08/image-19.png>"
   ]
  },
  {
   "cell_type": "code",
   "execution_count": 24,
   "id": "bc393e36-b7e8-49e2-888c-6fbd5102de81",
   "metadata": {},
   "outputs": [],
   "source": [
    "y = [0,0,0,0,0,0, 1,1,1,1,1,1,1,1,1,1, 2,2,2,2,2,2,2,2,2]\n",
    "pred = [0,0,0,0,1,2, 0,0,0,0,0,0,1,1,2,2, 0,0,0,2,2,2,2,2,2]"
   ]
  },
  {
   "cell_type": "code",
   "execution_count": 25,
   "id": "c8949783-c3f4-4a26-9fcc-ce5f4cec138c",
   "metadata": {},
   "outputs": [
    {
     "name": "stdout",
     "output_type": "stream",
     "text": [
      "[[4 1 1]\n",
      " [6 2 2]\n",
      " [3 0 6]]\n",
      "              precision    recall  f1-score   support\n",
      "\n",
      "           0       0.31      0.67      0.42         6\n",
      "           1       0.67      0.20      0.31        10\n",
      "           2       0.67      0.67      0.67         9\n",
      "\n",
      "    accuracy                           0.48        25\n",
      "   macro avg       0.55      0.51      0.47        25\n",
      "weighted avg       0.58      0.48      0.46        25\n",
      "\n"
     ]
    }
   ],
   "source": [
    "print(confusion_matrix(y,pred))\n",
    "print(classification_report(y, pred))"
   ]
  },
  {
   "cell_type": "code",
   "execution_count": 26,
   "id": "ec9c6a86-945a-4dc9-8c97-500fdce607a1",
   "metadata": {},
   "outputs": [
    {
     "name": "stdout",
     "output_type": "stream",
     "text": [
      "precision : 0.5470 recall: 0.5111 f1: 0.4651\n"
     ]
    }
   ],
   "source": [
    "precision = precision_score(y, pred, average = 'macro')   # average = 'binary'\n",
    "recall    = recall_score(y, pred, average = 'macro')      # average = 'binary'\n",
    "f1        = f1_score(y, pred, average = 'macro')          # average = 'binary'\n",
    "print(f\"precision : {precision:.4f} recall: {recall:.4f} f1: {f1:.4f}\")"
   ]
  },
  {
   "cell_type": "code",
   "execution_count": 27,
   "id": "ce715f05-1d98-4dbf-a0cd-428f5de469b1",
   "metadata": {},
   "outputs": [
    {
     "name": "stdout",
     "output_type": "stream",
     "text": [
      "precision : 0.4800 recall: 0.4800 f1: 0.4800\n"
     ]
    }
   ],
   "source": [
    "precision = precision_score(y, pred, average = 'micro')   # average = 'binary'\n",
    "recall    = recall_score(y, pred, average = 'micro')      # average = 'binary'\n",
    "f1        = f1_score(y, pred, average = 'micro')          # average = 'binary'\n",
    "print(f\"precision : {precision:.4f} recall: {recall:.4f} f1: {f1:.4f}\")"
   ]
  },
  {
   "cell_type": "code",
   "execution_count": 28,
   "id": "68590156-733a-4718-9df4-8189afe9fba5",
   "metadata": {},
   "outputs": [],
   "source": [
    "# micro precision (각 종의 개수가 불균형하게 쌓여있을 떄 사용)\n",
    "# TP/ (TP+FP)"
   ]
  },
  {
   "cell_type": "markdown",
   "id": "e018f875-ce4a-4cac-b9a8-b339766718e3",
   "metadata": {},
   "source": [
    "## ROC AUC"
   ]
  },
  {
   "cell_type": "markdown",
   "id": "5e299625-b366-42bf-b196-815339132d28",
   "metadata": {},
   "source": [
    "<img src=https://1.bp.blogspot.com/-cRcY8NBcFKg/XcDdlxe3y-I/AAAAAAAAAjE/LWpuRdpgZjEHjl-TAqJlVSz7LXh9hujWgCLcBGAsYHQ/s1600/roc_curve_python.png>"
   ]
  },
  {
   "cell_type": "markdown",
   "id": "2313735c-7989-4784-aed0-c5cf5761cce0",
   "metadata": {},
   "source": [
    "<pre>\n",
    "ROC_CURVE() : 양성(P)에 대한 정답(T) / 오답(F) 비율\n",
    "ROC_AUC_SCORE() : ROC 커브 아래 면적값\n",
    "\n",
    "specificity(특이도)\n",
    "    : TN / (TN + FP)\r",
    "\t: TNR(True Negative Rate)\r",
    "\t: 실제로 정상인데 예측이 정상\r",
    "\r",
    "X축 : FPR = 1 - 특이도(TNR)    FP / (TN+FP) =  P틀림/정상인(N전체)\r",
    "Y축 : TPR = 재현률(recall)       TP / (FN+TP) =  P맞춤/암환자(P전체)\n",
    "</pre>"
   ]
  },
  {
   "cell_type": "code",
   "execution_count": 29,
   "id": "cf3b9239-0ebc-4aa5-a1be-ae311fa7d07f",
   "metadata": {},
   "outputs": [],
   "source": [
    "from sklearn.metrics import roc_curve, roc_auc_score"
   ]
  },
  {
   "cell_type": "markdown",
   "id": "018165a2-404d-4704-82c5-2d18a1b7f746",
   "metadata": {},
   "source": [
    "```python\n",
    "sklearn.metrics.roc_curve(y_true, y_score, *, pos_label=None, sample_weight=None, drop_intermediate=True)\r\n",
    "y_score = probability estimates of the positive class\n",
    "\n",
    "```"
   ]
  },
  {
   "cell_type": "code",
   "execution_count": 30,
   "id": "626cfdb6-8568-4f72-ba69-3abe7132a0e5",
   "metadata": {},
   "outputs": [],
   "source": [
    "from sklearn.linear_model import LogisticRegression\n",
    "model = LogisticRegression(random_state=24)\n",
    "model.fit(X_train문제지8, y_train답안지8)\n",
    "pred = model.predict(X_test문제지2) \n",
    "proba = model.predict_proba(X_test문제지2) "
   ]
  },
  {
   "cell_type": "code",
   "execution_count": 31,
   "id": "3d09e1c1-aeb6-44ea-821d-ae1bc8a2b59f",
   "metadata": {},
   "outputs": [
    {
     "name": "stdout",
     "output_type": "stream",
     "text": [
      "[1 2 0]\n",
      "[[3.74959925e-03 8.44845188e-01 1.51405213e-01]\n",
      " [1.42105279e-03 4.54450979e-01 5.44127968e-01]\n",
      " [9.81555472e-01 1.84444897e-02 3.82764571e-08]]\n"
     ]
    }
   ],
   "source": [
    "print(pred[:3])\n",
    "print(proba[:3])"
   ]
  },
  {
   "cell_type": "code",
   "execution_count": 33,
   "id": "9b962726-34f6-4720-8136-608d124f30f4",
   "metadata": {},
   "outputs": [
    {
     "data": {
      "image/png": "[encoded data removed]",
      "text/plain": [
       "<Figure size 640x480 with 1 Axes>"
      ]
     },
     "metadata": {},
     "output_type": "display_data"
    }
   ],
   "source": [
    "model = LogisticRegression().fit(X_train문제지8,   y_train답안지8)\n",
    "pred = model.predict(X_test문제지2)\n",
    "proba = model.predict_proba(X_test문제지2)\n",
    "#fval = model.decision_function(X_test문제지2)\n",
    "#print(pred.shape, fval.shape)\n",
    "\n",
    "# roc curve for classes\n",
    "fpr = {}\n",
    "tpr = {}\n",
    "th  = {}\n",
    "\n",
    "n_class = 3\n",
    "for i in range(n_class):    \n",
    "    fpr[i], tpr[i], th[i] = roc_curve(y_test답안지2, proba[:,i], pos_label=i)\n",
    "\n",
    "# plotting    \n",
    "plt.plot(fpr[0], tpr[0], linestyle='--',color='orange', label='Class 0 vs Rest')\n",
    "plt.plot(fpr[1], tpr[1], linestyle='--',color='green' , label='Class 1 vs Rest')\n",
    "plt.plot(fpr[2], tpr[2], linestyle='--',color='blue'  , label='Class 2 vs Rest')\n",
    "plt.title('Multiclass ROC curve')\n",
    "plt.xlabel('FPR')\n",
    "plt.ylabel('TPR=1-TNR')\n",
    "plt.legend()\n",
    "plt.show()"
   ]
  },
  {
   "cell_type": "markdown",
   "id": "ba742ed9-bda0-4fa9-9fa5-10b304e22f79",
   "metadata": {},
   "source": [
    "```python\n",
    "sklearn.metrics.roc_auc_score(y_true, y_score, *, average='macro', sample_weight=None, max_fpr=None, multi_class='raise', labels=None)\n",
    "```"
   ]
  },
  {
   "cell_type": "code",
   "execution_count": 34,
   "id": "4c6e6c04-6999-4da2-b9c0-3d84427005bd",
   "metadata": {},
   "outputs": [
    {
     "data": {
      "text/plain": [
       "array([[3.74959925e-03, 8.44845188e-01, 1.51405213e-01],\n",
       "       [1.42105279e-03, 4.54450979e-01, 5.44127968e-01],\n",
       "       [9.81555472e-01, 1.84444897e-02, 3.82764571e-08],\n",
       "       [9.90731008e-01, 9.26898092e-03, 1.09328336e-08],\n",
       "       [3.71715611e-04, 1.71335940e-01, 8.28292345e-01],\n",
       "       [6.44010246e-08, 6.52536544e-03, 9.93474570e-01],\n",
       "       [6.64718051e-03, 8.38230737e-01, 1.55122083e-01],\n",
       "       [9.83417866e-01, 1.65821065e-02, 2.77619812e-08],\n",
       "       [9.34897819e-01, 6.51019364e-02, 2.45097840e-07],\n",
       "       [9.43347376e-01, 5.66524050e-02, 2.18782849e-07],\n",
       "       [2.93522245e-02, 9.50409723e-01, 2.02380529e-02],\n",
       "       [9.84181826e-01, 1.58181473e-02, 2.66978222e-08],\n",
       "       [3.60392300e-02, 9.47400140e-01, 1.65606297e-02],\n",
       "       [1.38715326e-05, 3.24194366e-02, 9.67566692e-01],\n",
       "       [2.84566941e-03, 4.18564866e-01, 5.78589465e-01],\n",
       "       [2.45320812e-03, 8.02366463e-01, 1.95180329e-01],\n",
       "       [8.03779079e-05, 1.30308836e-01, 8.69610786e-01],\n",
       "       [2.73800297e-01, 7.24436401e-01, 1.76330186e-03],\n",
       "       [9.69343576e-01, 3.06563609e-02, 6.34659672e-08],\n",
       "       [1.07341528e-07, 6.25944098e-03, 9.93740452e-01],\n",
       "       [9.67109751e-01, 3.28900953e-02, 1.53711411e-07],\n",
       "       [1.04954440e-06, 6.79363844e-03, 9.93205312e-01],\n",
       "       [9.94895389e-01, 5.10460603e-03, 4.54782767e-09],\n",
       "       [9.82830471e-01, 1.71695178e-02, 1.13409272e-08],\n",
       "       [5.58710285e-03, 8.07392757e-01, 1.87020140e-01],\n",
       "       [3.74013466e-04, 1.57870131e-01, 8.41755855e-01],\n",
       "       [9.37831430e-06, 6.48251187e-02, 9.35165503e-01],\n",
       "       [9.84492175e-01, 1.55078041e-02, 2.12064717e-08],\n",
       "       [9.45200035e-01, 5.47993705e-02, 5.94147130e-07],\n",
       "       [9.70403472e-01, 2.95964702e-02, 5.76127576e-08]])"
      ]
     },
     "execution_count": 34,
     "metadata": {},
     "output_type": "execute_result"
    }
   ],
   "source": [
    "proba"
   ]
  },
  {
   "cell_type": "code",
   "execution_count": 37,
   "id": "0a2588d4-922b-4393-a182-6bf718d707f4",
   "metadata": {},
   "outputs": [
    {
     "data": {
      "text/plain": [
       "0.9953703703703703"
      ]
     },
     "execution_count": 37,
     "metadata": {},
     "output_type": "execute_result"
    }
   ],
   "source": [
    "roc_auc_score(y_test답안지2, proba, multi_class = 'ovo')"
   ]
  },
  {
   "cell_type": "code",
   "execution_count": 36,
   "id": "e350f9e5-fb53-4411-8272-3c3b71d1f82e",
   "metadata": {},
   "outputs": [
    {
     "data": {
      "text/plain": [
       "0.9963423921757255"
      ]
     },
     "execution_count": 36,
     "metadata": {},
     "output_type": "execute_result"
    }
   ],
   "source": [
    "roc_auc_score(y_test답안지2, proba, multi_class = 'ovr')"
   ]
  },
  {
   "cell_type": "code",
   "execution_count": null,
   "id": "1dec21bc-99a3-4c58-a999-2501b0903980",
   "metadata": {},
   "outputs": [],
   "source": []
  }
 ],
 "metadata": {
  "kernelspec": {
   "display_name": "Python 3 (ipykernel)",
   "language": "python",
   "name": "python3"
  },
  "language_info": {
   "codemirror_mode": {
    "name": "ipython",
    "version": 3
   },
   "file_extension": ".py",
   "mimetype": "text/x-python",
   "name": "python",
   "nbconvert_exporter": "python",
   "pygments_lexer": "ipython3",
   "version": "3.8.8"
  }
 },
 "nbformat": 4,
 "nbformat_minor": 5
}
