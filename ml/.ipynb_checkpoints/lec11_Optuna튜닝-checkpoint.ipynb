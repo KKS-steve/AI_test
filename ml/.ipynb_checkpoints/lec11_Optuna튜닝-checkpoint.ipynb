{
 "cells": [
  {
   "cell_type": "markdown",
   "id": "8ba1d535-009e-4c93-961c-2fe3566d5080",
   "metadata": {},
   "source": [
    "# <b> Lec11. Optuna </b>\n",
    "* https://optuna.org/\n",
    "* 하이퍼파라미터 튜닝"
   ]
  },
  {
   "cell_type": "code",
   "execution_count": 18,
   "id": "07bbedf3-10a7-4ba5-8917-76deba2bfca3",
   "metadata": {},
   "outputs": [],
   "source": [
    "import numpy as np\n",
    "import pandas as pd\n",
    "import matplotlib.pyplot as plt\n",
    "import seaborn as sns\n",
    "\n",
    "# ------------------------------------------------------\n",
    "from sklearn.datasets import load_iris\n",
    "from sklearn.model_selection import train_test_split\n",
    "from sklearn.model_selection import cross_val_score\n",
    "from sklearn.preprocessing import StandardScaler, MinMaxScaler, RobustScaler\n",
    "from sklearn.tree import DecisionTreeClassifier\n",
    "# ------------------------------------------------------\n",
    "\n",
    "from sklearn.metrics import accuracy_score\n",
    "from sklearn.metrics import precision_score, recall_score, f1_score, roc_auc_score \n",
    "from sklearn.metrics import confusion_matrix,classification_report\n",
    "from sklearn.metrics import roc_curve, roc_auc_score\n",
    "# ------------------------------------------------------\n",
    "from sklearn.preprocessing import OneHotEncoder\n",
    "# ------------------------------------------------------\n",
    "from sklearn.model_selection import GridSearchCV\n",
    "from sklearn.ensemble import RandomForestClassifier\n",
    "\n",
    "import warnings\n",
    "warnings.filterwarnings(action=\"ignore\")"
   ]
  },
  {
   "cell_type": "code",
   "execution_count": null,
   "id": "64d32c77-2014-47ed-bb52-0d812e0e4c13",
   "metadata": {},
   "outputs": [],
   "source": []
  },
  {
   "cell_type": "markdown",
   "id": "3bb74fcd-57a3-447b-88aa-5ab7d6bdff2d",
   "metadata": {},
   "source": [
    "1. Wrap model training with an objective function and return score matrics\n",
    "2. Suggest hyperparameters using a trial object\n",
    "3. Create a study object and execute the optimization"
   ]
  },
  {
   "cell_type": "markdown",
   "id": "22406c17-4890-4156-a378-67b5b2c1877a",
   "metadata": {},
   "source": [
    "# basic Tutorial"
   ]
  },
  {
   "cell_type": "markdown",
   "id": "a5e98f6b-1357-40c4-8d80-274d9c1cd9e5",
   "metadata": {},
   "source": [
    "* optuna.trial.Trial.suggest_categorical() : 리스트 범위 내에서 값을 선택한다.\n",
    "* optuna.trial.Trial.suggest_int() : 범위 내에서 정수형 값을 선택한다.\n",
    "* optuna.trial.Trial.suggest_float() : 범위 내에서 소수형 값을 선택한다.\n",
    "* optuna.trial.Trial.suggest_uniform() : 범위 내에서 균일분포 값을 선택한다.\n",
    "* optuna.trial.Trial.suggest_discrete_uniform() : 범위 내에서 이산 균일분포 값을 선택한다.\n",
    "* optuna.trial.Trial.suggest_loguniform() : 범위 내에서 로그 함수 값을 선택한다."
   ]
  },
  {
   "cell_type": "code",
   "execution_count": 19,
   "id": "f878019a-fc49-40c8-8cb5-f8d085d8bf86",
   "metadata": {},
   "outputs": [
    {
     "name": "stdout",
     "output_type": "stream",
     "text": [
      "FrozenTrial(number=0, state=TrialState.COMPLETE, values=[0.96], datetime_start=datetime.datetime(2023, 9, 6, 11, 10, 26, 738492), datetime_complete=datetime.datetime(2023, 9, 6, 11, 10, 26, 744649), params={'classifier': 'SVC', 'svc_c': 1866.9833804266057}, user_attrs={}, system_attrs={}, intermediate_values={}, distributions={'classifier': CategoricalDistribution(choices=('SVC', 'RandomForest')), 'svc_c': FloatDistribution(high=10000000000.0, log=True, low=1e-10, step=None)}, trial_id=0, value=None)\n"
     ]
    }
   ],
   "source": [
    "\"\"\"\n",
    "Optuna example that optimizes a classifier configuration for Iris dataset using sklearn.\n",
    "\n",
    "In this example, we optimize a classifier configuration for Iris dataset. Classifiers are from\n",
    "scikit-learn. We optimize both the choice of classifier (among SVC and RandomForest) and their\n",
    "hyperparameters.\n",
    "\n",
    "\"\"\"\n",
    "\n",
    "import optuna\n",
    "\n",
    "import sklearn.datasets\n",
    "import sklearn.ensemble\n",
    "import sklearn.model_selection\n",
    "import sklearn.svm\n",
    "import logging\n",
    "\n",
    "# 로깅 레벨 설정\n",
    "optuna.logging.set_verbosity(logging.CRITICAL)\n",
    "iris = sklearn.datasets.load_iris()\n",
    "x, y = iris.data, iris.target\n",
    "\n",
    "# FYI: Objective functions can take additional arguments\n",
    "# (https://optuna.readthedocs.io/en/stable/faq.html#objective-func-additional-args).\n",
    "def my_objective(trial):\n",
    "\n",
    "    classifier_name = trial.suggest_categorical(\"classifier\", [\"SVC\", \"RandomForest\"])\n",
    "    if classifier_name == \"SVC\":\n",
    "        svc_c = trial.suggest_float(\"svc_c\", 1e-10, 1e10, log=True)\n",
    "        model = sklearn.svm.SVC(C=svc_c, gamma=\"auto\")\n",
    "    else:\n",
    "        rf_max_depth = trial.suggest_int(\"rf_max_depth\", 2, 32, log=True)\n",
    "        model = sklearn.ensemble.RandomForestClassifier(\n",
    "            max_depth=rf_max_depth, n_estimators=10\n",
    "        )\n",
    "\n",
    "    scores = cross_val_score(model, x, y, cv=3, scoring=\"accuracy\")\n",
    "    accuracy = scores.mean()\n",
    "    return accuracy\n",
    "\n",
    "\n",
    "# if __name__ == \"__main__\":\n",
    "study = optuna.create_study(direction=\"maximize\")\n",
    "study.optimize(my_objective, n_trials=10)\n",
    "print(study.best_trial)"
   ]
  },
  {
   "cell_type": "code",
   "execution_count": null,
   "id": "53fa9252-22ff-46ed-abe4-24d10693a4a4",
   "metadata": {},
   "outputs": [],
   "source": [
    ")"
   ]
  },
  {
   "cell_type": "code",
   "execution_count": null,
   "id": "366c9542-776b-4d6b-8b1a-9643a55839dd",
   "metadata": {},
   "outputs": [],
   "source": []
  },
  {
   "cell_type": "code",
   "execution_count": null,
   "id": "460fca68-fa68-4ddd-a285-86b3016597be",
   "metadata": {},
   "outputs": [],
   "source": []
  }
 ],
 "metadata": {
  "kernelspec": {
   "display_name": "Python 3 (ipykernel)",
   "language": "python",
   "name": "python3"
  },
  "language_info": {
   "codemirror_mode": {
    "name": "ipython",
    "version": 3
   },
   "file_extension": ".py",
   "mimetype": "text/x-python",
   "name": "python",
   "nbconvert_exporter": "python",
   "pygments_lexer": "ipython3",
   "version": "3.8.8"
  }
 },
 "nbformat": 4,
 "nbformat_minor": 5
}
