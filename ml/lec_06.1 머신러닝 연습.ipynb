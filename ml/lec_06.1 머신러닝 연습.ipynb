{
 "cells": [
  {
   "cell_type": "code",
   "execution_count": 1,
   "id": "112899a7-a9e0-43b0-a57d-7f7e7d2d9833",
   "metadata": {},
   "outputs": [
    {
     "data": {
      "text/html": [
       "<style>.container{width:100% !important;}</style>"
      ],
      "text/plain": [
       "<IPython.core.display.HTML object>"
      ]
     },
     "metadata": {},
     "output_type": "display_data"
    }
   ],
   "source": [
    "import numpy as np\n",
    "import pandas as pd\n",
    "\n",
    "import matplotlib.pyplot as plt\n",
    "import seaborn as sns\n",
    "\n",
    "sns.set()\n",
    "\n",
    "#-------------------- 차트 관련 속성 (한글처리, 그리드) -----------\n",
    "plt.rcParams['font.family']= 'Malgun Gothic'\n",
    "plt.rcParams['axes.unicode_minus'] = False\n",
    "\n",
    "#-------------------- 주피터 , 출력결과 넓이 늘리기 ---------------\n",
    "# from IPython.core.display import display, HTML\n",
    "from IPython.display import display, HTML\n",
    "\n",
    "display(HTML(\"<style>.container{width:100% !important;}</style>\"))\n",
    "pd.set_option('display.max_rows', 100)\n",
    "pd.set_option('display.max_columns', 100)\n",
    "pd.set_option('max_colwidth', None)\n",
    "\n",
    "import warnings\n",
    "warnings.filterwarnings(action='ignore')"
   ]
  },
  {
   "cell_type": "code",
   "execution_count": 2,
   "id": "20d4c51c-5a60-4e55-84bd-41d5e9ca637e",
   "metadata": {},
   "outputs": [
    {
     "name": "stdout",
     "output_type": "stream",
     "text": [
      "Outcome\n",
      "0    500\n",
      "1    268\n",
      "Name: count, dtype: int64\n"
     ]
    },
    {
     "data": {
      "text/html": [
       "<div>\n",
       "<style scoped>\n",
       "    .dataframe tbody tr th:only-of-type {\n",
       "        vertical-align: middle;\n",
       "    }\n",
       "\n",
       "    .dataframe tbody tr th {\n",
       "        vertical-align: top;\n",
       "    }\n",
       "\n",
       "    .dataframe thead th {\n",
       "        text-align: right;\n",
       "    }\n",
       "</style>\n",
       "<table border=\"1\" class=\"dataframe\">\n",
       "  <thead>\n",
       "    <tr style=\"text-align: right;\">\n",
       "      <th></th>\n",
       "      <th>Pregnancies</th>\n",
       "      <th>Glucose</th>\n",
       "      <th>BloodPressure</th>\n",
       "      <th>SkinThickness</th>\n",
       "      <th>Insulin</th>\n",
       "      <th>BMI</th>\n",
       "      <th>DiabetesPedigreeFunction</th>\n",
       "      <th>Age</th>\n",
       "      <th>Outcome</th>\n",
       "    </tr>\n",
       "  </thead>\n",
       "  <tbody>\n",
       "    <tr>\n",
       "      <th>0</th>\n",
       "      <td>6</td>\n",
       "      <td>148</td>\n",
       "      <td>72</td>\n",
       "      <td>35</td>\n",
       "      <td>0</td>\n",
       "      <td>33.6</td>\n",
       "      <td>0.627</td>\n",
       "      <td>50</td>\n",
       "      <td>1</td>\n",
       "    </tr>\n",
       "    <tr>\n",
       "      <th>1</th>\n",
       "      <td>1</td>\n",
       "      <td>85</td>\n",
       "      <td>66</td>\n",
       "      <td>29</td>\n",
       "      <td>0</td>\n",
       "      <td>26.6</td>\n",
       "      <td>0.351</td>\n",
       "      <td>31</td>\n",
       "      <td>0</td>\n",
       "    </tr>\n",
       "    <tr>\n",
       "      <th>2</th>\n",
       "      <td>8</td>\n",
       "      <td>183</td>\n",
       "      <td>64</td>\n",
       "      <td>0</td>\n",
       "      <td>0</td>\n",
       "      <td>23.3</td>\n",
       "      <td>0.672</td>\n",
       "      <td>32</td>\n",
       "      <td>1</td>\n",
       "    </tr>\n",
       "  </tbody>\n",
       "</table>\n",
       "</div>"
      ],
      "text/plain": [
       "   Pregnancies  Glucose  BloodPressure  SkinThickness  Insulin   BMI  \\\n",
       "0            6      148             72             35        0  33.6   \n",
       "1            1       85             66             29        0  26.6   \n",
       "2            8      183             64              0        0  23.3   \n",
       "\n",
       "   DiabetesPedigreeFunction  Age  Outcome  \n",
       "0                     0.627   50        1  \n",
       "1                     0.351   31        0  \n",
       "2                     0.672   32        1  "
      ]
     },
     "execution_count": 2,
     "metadata": {},
     "output_type": "execute_result"
    }
   ],
   "source": [
    "from sklearn.model_selection import train_test_split\n",
    "from sklearn.tree import DecisionTreeClassifier\n",
    "# from sklearn.datasets import load_iris, load_diabetes\n",
    "from sklearn.linear_model import LogisticRegression\n",
    "\n",
    "from sklearn.metrics import accuracy_score, precision_score, recall_score, roc_auc_score\n",
    "from sklearn.metrics import f1_score, confusion_matrix, precision_recall_curve, roc_curve\n",
    "from sklearn.preprocessing import StandardScaler\n",
    "\n",
    "diabetes_data = pd.read_csv(\"./datasets/diabetes.csv\")\n",
    "print(diabetes_data[\"Outcome\"].value_counts())\n",
    "diabetes_data.head(3)"
   ]
  },
  {
   "cell_type": "code",
   "execution_count": 3,
   "id": "70fed83d-6c8b-4517-893a-2702657a0563",
   "metadata": {},
   "outputs": [
    {
     "name": "stdout",
     "output_type": "stream",
     "text": [
      "<class 'pandas.core.frame.DataFrame'>\n",
      "RangeIndex: 768 entries, 0 to 767\n",
      "Data columns (total 9 columns):\n",
      " #   Column                    Non-Null Count  Dtype  \n",
      "---  ------                    --------------  -----  \n",
      " 0   Pregnancies               768 non-null    int64  \n",
      " 1   Glucose                   768 non-null    int64  \n",
      " 2   BloodPressure             768 non-null    int64  \n",
      " 3   SkinThickness             768 non-null    int64  \n",
      " 4   Insulin                   768 non-null    int64  \n",
      " 5   BMI                       768 non-null    float64\n",
      " 6   DiabetesPedigreeFunction  768 non-null    float64\n",
      " 7   Age                       768 non-null    int64  \n",
      " 8   Outcome                   768 non-null    int64  \n",
      "dtypes: float64(2), int64(7)\n",
      "memory usage: 54.1 KB\n"
     ]
    }
   ],
   "source": [
    "diabetes_data.info()"
   ]
  },
  {
   "cell_type": "code",
   "execution_count": 9,
   "id": "d791d60b-9c3a-491c-a337-840088a5e662",
   "metadata": {},
   "outputs": [],
   "source": [
    "def get_clf_eval(y_test, pred=None, pred_proba=None):\n",
    "    confusion = confusion_matrix(y_test,pred)\n",
    "    accuracy = accuracy_score(y_test,pred)\n",
    "    precision = precision_score(y_test,pred)\n",
    "    recall = recall_score(y_test,pred)\n",
    "    f1 = f1_score(y_test,pred)\n",
    "    # roc_auc 추가\n",
    "    roc_auc = roc_auc_score(y_test, pred_proba)\n",
    "    print(\"오차 행렬\")\n",
    "    print(confusion)\n",
    "    # F1 Score print\n",
    "    print(f\"정확도:{accuracy:.4f}, 정밀도:{precision:.4f}, 재현율:{recall:.4f}, F1:{f1:.4f}\")"
   ]
  },
  {
   "cell_type": "code",
   "execution_count": 10,
   "id": "9654bcc6-1a37-49fa-bcf5-e2c20410cc3d",
   "metadata": {},
   "outputs": [
    {
     "name": "stdout",
     "output_type": "stream",
     "text": [
      "오차 행렬\n",
      "[[87 13]\n",
      " [22 32]]\n",
      "정확도:0.7727, 정밀도:0.7111, 재현율:0.5926, F1:0.6465\n"
     ]
    }
   ],
   "source": [
    "X = diabetes_data.iloc[:,:-1]\n",
    "y = diabetes_data.iloc[:,-1]\n",
    "\n",
    "X_train, X_test, y_train, y_test = train_test_split(X,y, test_size=0.2, random_state=156, stratify=y)\n",
    "\n",
    "# 로지스틱 회귀로 학습, 예측 및 평가 수행\n",
    "lr_clf = LogisticRegression(solver='liblinear')\n",
    "lr_clf.fit(X_train,y_train)\n",
    "pred = lr_clf.predict(X_test)\n",
    "pred_proba = lr_clf.predict_proba(X_test)[:,1]\n",
    "\n",
    "get_clf_eval(y_test, pred, pred_proba)"
   ]
  },
  {
   "cell_type": "code",
   "execution_count": 15,
   "id": "7e51b178-045e-440b-8146-ff453ee7a886",
   "metadata": {},
   "outputs": [
    {
     "data": {
      "text/plain": [
       "(array([0.35064935, 0.34640523, 0.34210526, 0.34437086, 0.34666667,\n",
       "        0.34899329, 0.35135135, 0.3537415 , 0.35616438, 0.35862069,\n",
       "        0.36111111, 0.36363636, 0.36619718, 0.36170213, 0.36428571,\n",
       "        0.36690647, 0.36956522, 0.37226277, 0.375     , 0.37777778,\n",
       "        0.38059701, 0.38345865, 0.38636364, 0.38931298, 0.39230769,\n",
       "        0.3875969 , 0.390625  , 0.39370079, 0.3968254 , 0.4       ,\n",
       "        0.40322581, 0.40650407, 0.40983607, 0.41322314, 0.41666667,\n",
       "        0.42016807, 0.42372881, 0.42735043, 0.43103448, 0.43478261,\n",
       "        0.43859649, 0.44247788, 0.44642857, 0.45045045, 0.45454545,\n",
       "        0.4587156 , 0.46296296, 0.46728972, 0.47169811, 0.47619048,\n",
       "        0.47115385, 0.47572816, 0.48039216, 0.47524752, 0.48      ,\n",
       "        0.48484848, 0.48979592, 0.48453608, 0.48958333, 0.49473684,\n",
       "        0.5       , 0.50537634, 0.5       , 0.50549451, 0.5       ,\n",
       "        0.50561798, 0.51136364, 0.51724138, 0.51162791, 0.51764706,\n",
       "        0.52380952, 0.53012048, 0.53658537, 0.5308642 , 0.5375    ,\n",
       "        0.5443038 , 0.55128205, 0.55844156, 0.56578947, 0.57333333,\n",
       "        0.58108108, 0.5890411 , 0.59722222, 0.5915493 , 0.6       ,\n",
       "        0.60869565, 0.61764706, 0.6119403 , 0.60606061, 0.6       ,\n",
       "        0.609375  , 0.6031746 , 0.61290323, 0.60655738, 0.61666667,\n",
       "        0.62711864, 0.63793103, 0.64912281, 0.66071429, 0.67272727,\n",
       "        0.68518519, 0.67924528, 0.67307692, 0.68627451, 0.7       ,\n",
       "        0.69387755, 0.6875    , 0.70212766, 0.69565217, 0.71111111,\n",
       "        0.72727273, 0.74418605, 0.76190476, 0.75609756, 0.75      ,\n",
       "        0.74358974, 0.76315789, 0.75675676, 0.77777778, 0.8       ,\n",
       "        0.79411765, 0.78787879, 0.78125   , 0.77419355, 0.8       ,\n",
       "        0.79310345, 0.82142857, 0.85185185, 0.88461538, 0.92      ,\n",
       "        0.91666667, 0.91304348, 0.90909091, 0.9047619 , 0.9       ,\n",
       "        0.89473684, 0.88888889, 0.94117647, 0.9375    , 0.93333333,\n",
       "        0.92857143, 0.92307692, 0.91666667, 0.90909091, 0.9       ,\n",
       "        0.88888889, 0.875     , 0.85714286, 0.83333333, 0.8       ,\n",
       "        0.75      , 0.66666667, 0.5       , 0.        , 1.        ]),\n",
       " array([1.        , 0.98148148, 0.96296296, 0.96296296, 0.96296296,\n",
       "        0.96296296, 0.96296296, 0.96296296, 0.96296296, 0.96296296,\n",
       "        0.96296296, 0.96296296, 0.96296296, 0.94444444, 0.94444444,\n",
       "        0.94444444, 0.94444444, 0.94444444, 0.94444444, 0.94444444,\n",
       "        0.94444444, 0.94444444, 0.94444444, 0.94444444, 0.94444444,\n",
       "        0.92592593, 0.92592593, 0.92592593, 0.92592593, 0.92592593,\n",
       "        0.92592593, 0.92592593, 0.92592593, 0.92592593, 0.92592593,\n",
       "        0.92592593, 0.92592593, 0.92592593, 0.92592593, 0.92592593,\n",
       "        0.92592593, 0.92592593, 0.92592593, 0.92592593, 0.92592593,\n",
       "        0.92592593, 0.92592593, 0.92592593, 0.92592593, 0.92592593,\n",
       "        0.90740741, 0.90740741, 0.90740741, 0.88888889, 0.88888889,\n",
       "        0.88888889, 0.88888889, 0.87037037, 0.87037037, 0.87037037,\n",
       "        0.87037037, 0.87037037, 0.85185185, 0.85185185, 0.83333333,\n",
       "        0.83333333, 0.83333333, 0.83333333, 0.81481481, 0.81481481,\n",
       "        0.81481481, 0.81481481, 0.81481481, 0.7962963 , 0.7962963 ,\n",
       "        0.7962963 , 0.7962963 , 0.7962963 , 0.7962963 , 0.7962963 ,\n",
       "        0.7962963 , 0.7962963 , 0.7962963 , 0.77777778, 0.77777778,\n",
       "        0.77777778, 0.77777778, 0.75925926, 0.74074074, 0.72222222,\n",
       "        0.72222222, 0.7037037 , 0.7037037 , 0.68518519, 0.68518519,\n",
       "        0.68518519, 0.68518519, 0.68518519, 0.68518519, 0.68518519,\n",
       "        0.68518519, 0.66666667, 0.64814815, 0.64814815, 0.64814815,\n",
       "        0.62962963, 0.61111111, 0.61111111, 0.59259259, 0.59259259,\n",
       "        0.59259259, 0.59259259, 0.59259259, 0.57407407, 0.55555556,\n",
       "        0.53703704, 0.53703704, 0.51851852, 0.51851852, 0.51851852,\n",
       "        0.5       , 0.48148148, 0.46296296, 0.44444444, 0.44444444,\n",
       "        0.42592593, 0.42592593, 0.42592593, 0.42592593, 0.42592593,\n",
       "        0.40740741, 0.38888889, 0.37037037, 0.35185185, 0.33333333,\n",
       "        0.31481481, 0.2962963 , 0.2962963 , 0.27777778, 0.25925926,\n",
       "        0.24074074, 0.22222222, 0.2037037 , 0.18518519, 0.16666667,\n",
       "        0.14814815, 0.12962963, 0.11111111, 0.09259259, 0.07407407,\n",
       "        0.05555556, 0.03703704, 0.01851852, 0.        , 0.        ]),\n",
       " array([0.01933348, 0.03127319, 0.04169891, 0.05391355, 0.05496834,\n",
       "        0.05716137, 0.0662814 , 0.07015406, 0.07257008, 0.07644162,\n",
       "        0.07983239, 0.08077973, 0.0816009 , 0.0824984 , 0.08667316,\n",
       "        0.09112383, 0.09119785, 0.09173568, 0.0933437 , 0.10653225,\n",
       "        0.10865951, 0.10952649, 0.11311074, 0.11491929, 0.11671632,\n",
       "        0.12307543, 0.12542009, 0.1311227 , 0.13284832, 0.13587445,\n",
       "        0.13599491, 0.14253421, 0.14751727, 0.1489467 , 0.14925811,\n",
       "        0.15073243, 0.15108908, 0.15392749, 0.15513103, 0.15534677,\n",
       "        0.16485461, 0.16761818, 0.17570553, 0.17611347, 0.17868401,\n",
       "        0.17973393, 0.18560493, 0.18711053, 0.18899096, 0.19029459,\n",
       "        0.19458307, 0.20066672, 0.20205266, 0.20916467, 0.21644162,\n",
       "        0.21791905, 0.21913583, 0.22101463, 0.22287043, 0.22645226,\n",
       "        0.22797781, 0.23335326, 0.23817762, 0.24830249, 0.24995527,\n",
       "        0.25147223, 0.26340602, 0.26406148, 0.27543005, 0.27680892,\n",
       "        0.27826441, 0.28692096, 0.29255478, 0.29951111, 0.30051111,\n",
       "        0.30480802, 0.30672675, 0.30927955, 0.31102778, 0.31269157,\n",
       "        0.31383079, 0.31775294, 0.32159649, 0.32252203, 0.3301731 ,\n",
       "        0.33553748, 0.33720055, 0.33953924, 0.34121544, 0.34134509,\n",
       "        0.34620099, 0.34852517, 0.34882107, 0.3504171 , 0.35074391,\n",
       "        0.36443177, 0.37458798, 0.37878239, 0.38931036, 0.40274843,\n",
       "        0.44146103, 0.44237984, 0.45161872, 0.45954008, 0.46269203,\n",
       "        0.46683681, 0.48368244, 0.48408626, 0.48471012, 0.50012139,\n",
       "        0.5100091 , 0.51368683, 0.51654661, 0.51670442, 0.52094876,\n",
       "        0.5466072 , 0.55491898, 0.56934878, 0.57578206, 0.57909268,\n",
       "        0.5862493 , 0.59456444, 0.60787154, 0.61324605, 0.62787129,\n",
       "        0.63226305, 0.64214199, 0.64250681, 0.64885541, 0.65584957,\n",
       "        0.65841211, 0.66939202, 0.69376046, 0.71076177, 0.71304216,\n",
       "        0.71543297, 0.71566443, 0.7161763 , 0.71758556, 0.72374327,\n",
       "        0.7270061 , 0.73039608, 0.7311671 , 0.74865178, 0.75010366,\n",
       "        0.75901834, 0.77134311, 0.77680341, 0.79316946, 0.81026032,\n",
       "        0.8322273 , 0.84923384, 0.88208691, 0.95383297]))"
      ]
     },
     "execution_count": 15,
     "metadata": {},
     "output_type": "execute_result"
    }
   ],
   "source": [
    "pred_proba_c1 = lr_clf.predict_proba(X_test)[:,1]\n",
    "precision_recall_curve(y_test, pred_proba_c1)"
   ]
  },
  {
   "cell_type": "code",
   "execution_count": null,
   "id": "28054b06-19c6-4317-bfc0-a298d99604cd",
   "metadata": {},
   "outputs": [],
   "source": []
  }
 ],
 "metadata": {
  "kernelspec": {
   "display_name": "Python 3 (ipykernel)",
   "language": "python",
   "name": "python3"
  },
  "language_info": {
   "codemirror_mode": {
    "name": "ipython",
    "version": 3
   },
   "file_extension": ".py",
   "mimetype": "text/x-python",
   "name": "python",
   "nbconvert_exporter": "python",
   "pygments_lexer": "ipython3",
   "version": "3.8.8"
  }
 },
 "nbformat": 4,
 "nbformat_minor": 5
}
